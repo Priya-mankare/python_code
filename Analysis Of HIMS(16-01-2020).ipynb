{
  "nbformat": 4,
  "nbformat_minor": 0,
  "metadata": {
    "colab": {
      "name": "Untitled3.ipynb",
      "provenance": [],
      "collapsed_sections": [],
      "authorship_tag": "ABX9TyNCHIHsToF3BIkD0CwhgBt+",
      "include_colab_link": true
    },
    "kernelspec": {
      "name": "python3",
      "display_name": "Python 3"
    }
  },
  "cells": [
    {
      "cell_type": "markdown",
      "metadata": {
        "id": "view-in-github",
        "colab_type": "text"
      },
      "source": [
        "<a href=\"https://colab.research.google.com/github/swarup7350/python_code/blob/master/Analysis%20Of%20HIMS(16-01-2020).ipynb\" target=\"_parent\"><img src=\"https://colab.research.google.com/assets/colab-badge.svg\" alt=\"Open In Colab\"/></a>"
      ]
    },
    {
      "cell_type": "code",
      "metadata": {
        "id": "WdZb5vqcM5JS",
        "colab_type": "code",
        "colab": {}
      },
      "source": [
        "\n",
        "import sys\n",
        "import pymongo                                                                      # Import packages\n",
        "import pandas as pd\n",
        "import seaborn as sns\n",
        "import numpy as np\n",
        "import matplotlib.pyplot as plt\n",
        "from matplotlib.pyplot import pie, axis, show\n",
        "%matplotlib inline                                                              \n",
        "\n",
        "import warnings                                                                 # Ignore warning related to pandas_profiling\n",
        "warnings.filterwarnings('ignore') \n",
        "pd.set_option('display.max_columns', 100)                                       # Display all dataframe columns in outputs"
      ],
      "execution_count": 0,
      "outputs": []
    },
    {
      "cell_type": "code",
      "metadata": {
        "id": "rRsK_bp1PexO",
        "colab_type": "code",
        "outputId": "8b3d1e73-f03d-407f-e3df-45eb0d432f06",
        "colab": {
          "resources": {
            "http://localhost:8080/nbextensions/google.colab/files.js": {
              "data": "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",
              "ok": true,
              "headers": [
                [
                  "content-type",
                  "application/javascript"
                ]
              ],
              "status": 200,
              "status_text": ""
            }
          },
          "base_uri": "https://localhost:8080/",
          "height": 74
        }
      },
      "source": [
        "\n",
        "from google.colab import files\n",
        "uploaded = files.upload()"
      ],
      "execution_count": 0,
      "outputs": [
        {
          "output_type": "display_data",
          "data": {
            "text/html": [
              "\n",
              "     <input type=\"file\" id=\"files-16b00527-14d4-4a45-b893-9204f8a863f9\" name=\"files[]\" multiple disabled />\n",
              "     <output id=\"result-16b00527-14d4-4a45-b893-9204f8a863f9\">\n",
              "      Upload widget is only available when the cell has been executed in the\n",
              "      current browser session. Please rerun this cell to enable.\n",
              "      </output>\n",
              "      <script src=\"/nbextensions/google.colab/files.js\"></script> "
            ],
            "text/plain": [
              "<IPython.core.display.HTML object>"
            ]
          },
          "metadata": {
            "tags": []
          }
        },
        {
          "output_type": "stream",
          "text": [
            "Saving Screening Final Details.xlsx to Screening Final Details (2).xlsx\n"
          ],
          "name": "stdout"
        }
      ]
    },
    {
      "cell_type": "code",
      "metadata": {
        "id": "xmgMwEveQyJx",
        "colab_type": "code",
        "colab": {}
      },
      "source": [
        "import pandas as pd\n",
        "Screening_Final_Details= pd.read_excel('Screening Final Details (1).xlsx', sep=',', encoding='latin-1')"
      ],
      "execution_count": 0,
      "outputs": []
    },
    {
      "cell_type": "code",
      "metadata": {
        "id": "T9YE3ObKRbnI",
        "colab_type": "code",
        "outputId": "a47bd1d2-f2b9-48d3-a9f3-ed0816bc51fb",
        "colab": {
          "base_uri": "https://localhost:8080/",
          "height": 479
        }
      },
      "source": [
        "Screening_Final_Details.head()"
      ],
      "execution_count": 92,
      "outputs": [
        {
          "output_type": "execute_result",
          "data": {
            "text/html": [
              "<div>\n",
              "<style scoped>\n",
              "    .dataframe tbody tr th:only-of-type {\n",
              "        vertical-align: middle;\n",
              "    }\n",
              "\n",
              "    .dataframe tbody tr th {\n",
              "        vertical-align: top;\n",
              "    }\n",
              "\n",
              "    .dataframe thead th {\n",
              "        text-align: right;\n",
              "    }\n",
              "</style>\n",
              "<table border=\"1\" class=\"dataframe\">\n",
              "  <thead>\n",
              "    <tr style=\"text-align: right;\">\n",
              "      <th></th>\n",
              "      <th>CampId</th>\n",
              "      <th>CampNo</th>\n",
              "      <th>CampLocation</th>\n",
              "      <th>CampDate</th>\n",
              "      <th>DISTLGDCODE</th>\n",
              "      <th>DISTNAME</th>\n",
              "      <th>RegdId</th>\n",
              "      <th>RegdNo</th>\n",
              "      <th>FULLNAME</th>\n",
              "      <th>MOBILE</th>\n",
              "      <th>AGE</th>\n",
              "      <th>GENDER</th>\n",
              "      <th>DOCREMARK</th>\n",
              "      <th>health_STATUS</th>\n",
              "      <th>BMI</th>\n",
              "      <th>Weight_KGs</th>\n",
              "      <th>Height_CMs</th>\n",
              "      <th>BloodSugar_F</th>\n",
              "      <th>BloodSugar_PP</th>\n",
              "      <th>BloodSugar_R</th>\n",
              "      <th>PulseRate</th>\n",
              "    </tr>\n",
              "  </thead>\n",
              "  <tbody>\n",
              "    <tr>\n",
              "      <th>0</th>\n",
              "      <td>108</td>\n",
              "      <td>CAMP_482_0000019</td>\n",
              "      <td>Dattapada Rd, Rajendra Nagar, Borivali East, M...</td>\n",
              "      <td>2019-08-01</td>\n",
              "      <td>999</td>\n",
              "      <td>MUMBAI SUBURBAN WEST</td>\n",
              "      <td>476802</td>\n",
              "      <td>353690015132</td>\n",
              "      <td>Kathuao Malik</td>\n",
              "      <td>8.828341e+09</td>\n",
              "      <td>28.0</td>\n",
              "      <td>M</td>\n",
              "      <td>PATIENT IS NORMAL HAEMODYNAMICALLY STABLE</td>\n",
              "      <td>Normal</td>\n",
              "      <td>18.5901</td>\n",
              "      <td>50.0</td>\n",
              "      <td>164.0</td>\n",
              "      <td>101.0</td>\n",
              "      <td>115.0</td>\n",
              "      <td>NaN</td>\n",
              "      <td>NaN</td>\n",
              "    </tr>\n",
              "    <tr>\n",
              "      <th>1</th>\n",
              "      <td>108</td>\n",
              "      <td>CAMP_482_0000019</td>\n",
              "      <td>Dattapada Rd, Rajendra Nagar, Borivali East, M...</td>\n",
              "      <td>2019-08-01</td>\n",
              "      <td>999</td>\n",
              "      <td>MUMBAI SUBURBAN WEST</td>\n",
              "      <td>476806</td>\n",
              "      <td>353690009820</td>\n",
              "      <td>Sudhansu Malik</td>\n",
              "      <td>9.892363e+09</td>\n",
              "      <td>23.0</td>\n",
              "      <td>M</td>\n",
              "      <td>PATIENT IS NORMAL HAEMODYNAMICALLY STABLE</td>\n",
              "      <td>Normal</td>\n",
              "      <td>18.8189</td>\n",
              "      <td>50.0</td>\n",
              "      <td>163.0</td>\n",
              "      <td>71.0</td>\n",
              "      <td>96.0</td>\n",
              "      <td>NaN</td>\n",
              "      <td>NaN</td>\n",
              "    </tr>\n",
              "    <tr>\n",
              "      <th>2</th>\n",
              "      <td>108</td>\n",
              "      <td>CAMP_482_0000019</td>\n",
              "      <td>Dattapada Rd, Rajendra Nagar, Borivali East, M...</td>\n",
              "      <td>2019-08-01</td>\n",
              "      <td>999</td>\n",
              "      <td>MUMBAI SUBURBAN WEST</td>\n",
              "      <td>476809</td>\n",
              "      <td>353690015123</td>\n",
              "      <td>Jitrendra Malik</td>\n",
              "      <td>8.452993e+09</td>\n",
              "      <td>20.0</td>\n",
              "      <td>M</td>\n",
              "      <td>PATIENT IS NORMAL HAEMODYNAMICALLY STABLE</td>\n",
              "      <td>Normal</td>\n",
              "      <td>17.5781</td>\n",
              "      <td>45.0</td>\n",
              "      <td>160.0</td>\n",
              "      <td>74.0</td>\n",
              "      <td>148.0</td>\n",
              "      <td>NaN</td>\n",
              "      <td>NaN</td>\n",
              "    </tr>\n",
              "    <tr>\n",
              "      <th>3</th>\n",
              "      <td>108</td>\n",
              "      <td>CAMP_482_0000019</td>\n",
              "      <td>Dattapada Rd, Rajendra Nagar, Borivali East, M...</td>\n",
              "      <td>2019-08-01</td>\n",
              "      <td>999</td>\n",
              "      <td>MUMBAI SUBURBAN WEST</td>\n",
              "      <td>476811</td>\n",
              "      <td>353690013716</td>\n",
              "      <td>Madhu Sudan Das</td>\n",
              "      <td>9.768925e+09</td>\n",
              "      <td>51.0</td>\n",
              "      <td>M</td>\n",
              "      <td>PATIENT IS NORMAL HAEMODYNAMICALLY STABLE</td>\n",
              "      <td>Normal</td>\n",
              "      <td>19.2277</td>\n",
              "      <td>48.0</td>\n",
              "      <td>158.0</td>\n",
              "      <td>83.0</td>\n",
              "      <td>125.0</td>\n",
              "      <td>NaN</td>\n",
              "      <td>NaN</td>\n",
              "    </tr>\n",
              "    <tr>\n",
              "      <th>4</th>\n",
              "      <td>108</td>\n",
              "      <td>CAMP_482_0000019</td>\n",
              "      <td>Dattapada Rd, Rajendra Nagar, Borivali East, M...</td>\n",
              "      <td>2019-08-01</td>\n",
              "      <td>999</td>\n",
              "      <td>MUMBAI SUBURBAN WEST</td>\n",
              "      <td>476813</td>\n",
              "      <td>353690008804</td>\n",
              "      <td>Anup Bain</td>\n",
              "      <td>9.082932e+09</td>\n",
              "      <td>41.0</td>\n",
              "      <td>M</td>\n",
              "      <td>PREDIABETIC</td>\n",
              "      <td>IPD</td>\n",
              "      <td>22.8624</td>\n",
              "      <td>60.0</td>\n",
              "      <td>162.0</td>\n",
              "      <td>100.0</td>\n",
              "      <td>166.0</td>\n",
              "      <td>NaN</td>\n",
              "      <td>NaN</td>\n",
              "    </tr>\n",
              "  </tbody>\n",
              "</table>\n",
              "</div>"
            ],
            "text/plain": [
              "   CampId            CampNo  \\\n",
              "0     108  CAMP_482_0000019   \n",
              "1     108  CAMP_482_0000019   \n",
              "2     108  CAMP_482_0000019   \n",
              "3     108  CAMP_482_0000019   \n",
              "4     108  CAMP_482_0000019   \n",
              "\n",
              "                                        CampLocation   CampDate  DISTLGDCODE  \\\n",
              "0  Dattapada Rd, Rajendra Nagar, Borivali East, M... 2019-08-01          999   \n",
              "1  Dattapada Rd, Rajendra Nagar, Borivali East, M... 2019-08-01          999   \n",
              "2  Dattapada Rd, Rajendra Nagar, Borivali East, M... 2019-08-01          999   \n",
              "3  Dattapada Rd, Rajendra Nagar, Borivali East, M... 2019-08-01          999   \n",
              "4  Dattapada Rd, Rajendra Nagar, Borivali East, M... 2019-08-01          999   \n",
              "\n",
              "               DISTNAME  RegdId        RegdNo         FULLNAME        MOBILE  \\\n",
              "0  MUMBAI SUBURBAN WEST  476802  353690015132    Kathuao Malik  8.828341e+09   \n",
              "1  MUMBAI SUBURBAN WEST  476806  353690009820   Sudhansu Malik  9.892363e+09   \n",
              "2  MUMBAI SUBURBAN WEST  476809  353690015123  Jitrendra Malik  8.452993e+09   \n",
              "3  MUMBAI SUBURBAN WEST  476811  353690013716  Madhu Sudan Das  9.768925e+09   \n",
              "4  MUMBAI SUBURBAN WEST  476813  353690008804        Anup Bain  9.082932e+09   \n",
              "\n",
              "    AGE GENDER                                  DOCREMARK health_STATUS  \\\n",
              "0  28.0      M  PATIENT IS NORMAL HAEMODYNAMICALLY STABLE        Normal   \n",
              "1  23.0      M  PATIENT IS NORMAL HAEMODYNAMICALLY STABLE        Normal   \n",
              "2  20.0      M  PATIENT IS NORMAL HAEMODYNAMICALLY STABLE        Normal   \n",
              "3  51.0      M  PATIENT IS NORMAL HAEMODYNAMICALLY STABLE        Normal   \n",
              "4  41.0      M                                PREDIABETIC           IPD   \n",
              "\n",
              "       BMI  Weight_KGs  Height_CMs  BloodSugar_F  BloodSugar_PP  BloodSugar_R  \\\n",
              "0  18.5901        50.0       164.0         101.0          115.0           NaN   \n",
              "1  18.8189        50.0       163.0          71.0           96.0           NaN   \n",
              "2  17.5781        45.0       160.0          74.0          148.0           NaN   \n",
              "3  19.2277        48.0       158.0          83.0          125.0           NaN   \n",
              "4  22.8624        60.0       162.0         100.0          166.0           NaN   \n",
              "\n",
              "   PulseRate  \n",
              "0        NaN  \n",
              "1        NaN  \n",
              "2        NaN  \n",
              "3        NaN  \n",
              "4        NaN  "
            ]
          },
          "metadata": {
            "tags": []
          },
          "execution_count": 92
        }
      ]
    },
    {
      "cell_type": "code",
      "metadata": {
        "id": "Wvh-xN7ORwLv",
        "colab_type": "code",
        "outputId": "b0f2c89e-2de6-4953-d029-539ba4f49077",
        "colab": {
          "base_uri": "https://localhost:8080/",
          "height": 459
        }
      },
      "source": [
        "Screening_Final_Details.info()"
      ],
      "execution_count": 0,
      "outputs": [
        {
          "output_type": "stream",
          "text": [
            "<class 'pandas.core.frame.DataFrame'>\n",
            "RangeIndex: 64023 entries, 0 to 64022\n",
            "Data columns (total 21 columns):\n",
            "CampId           64023 non-null int64\n",
            "CampNo           64014 non-null object\n",
            "CampLocation     64014 non-null object\n",
            "CampDate         64023 non-null datetime64[ns]\n",
            "DISTLGDCODE      64023 non-null int64\n",
            "DISTNAME         64023 non-null object\n",
            "RegdId           64023 non-null int64\n",
            "RegdNo           64023 non-null int64\n",
            "FULLNAME         64021 non-null object\n",
            "MOBILE           53356 non-null float64\n",
            "AGE              64021 non-null float64\n",
            "GENDER           64021 non-null object\n",
            "DOCREMARK        54950 non-null object\n",
            "health_STATUS    64023 non-null object\n",
            "BMI              63899 non-null float64\n",
            "Weight_KGs       63899 non-null float64\n",
            "Height_CMs       63899 non-null float64\n",
            "BloodSugar_F     57872 non-null float64\n",
            "BloodSugar_PP    62887 non-null float64\n",
            "BloodSugar_R     6558 non-null float64\n",
            "PulseRate        0 non-null float64\n",
            "dtypes: datetime64[ns](1), float64(9), int64(4), object(7)\n",
            "memory usage: 10.3+ MB\n"
          ],
          "name": "stdout"
        }
      ]
    },
    {
      "cell_type": "code",
      "metadata": {
        "id": "vr2te9Tg0YBT",
        "colab_type": "code",
        "colab": {
          "base_uri": "https://localhost:8080/",
          "height": 317
        },
        "outputId": "edd8b60d-22b1-43d3-ee0d-b14f7e4248bc"
      },
      "source": [
        "Screening_Final_Details.describe()"
      ],
      "execution_count": 95,
      "outputs": [
        {
          "output_type": "execute_result",
          "data": {
            "text/html": [
              "<div>\n",
              "<style scoped>\n",
              "    .dataframe tbody tr th:only-of-type {\n",
              "        vertical-align: middle;\n",
              "    }\n",
              "\n",
              "    .dataframe tbody tr th {\n",
              "        vertical-align: top;\n",
              "    }\n",
              "\n",
              "    .dataframe thead th {\n",
              "        text-align: right;\n",
              "    }\n",
              "</style>\n",
              "<table border=\"1\" class=\"dataframe\">\n",
              "  <thead>\n",
              "    <tr style=\"text-align: right;\">\n",
              "      <th></th>\n",
              "      <th>CampId</th>\n",
              "      <th>DISTLGDCODE</th>\n",
              "      <th>RegdId</th>\n",
              "      <th>RegdNo</th>\n",
              "      <th>MOBILE</th>\n",
              "      <th>AGE</th>\n",
              "      <th>BMI</th>\n",
              "      <th>Weight_KGs</th>\n",
              "      <th>Height_CMs</th>\n",
              "      <th>BloodSugar_F</th>\n",
              "      <th>BloodSugar_PP</th>\n",
              "      <th>BloodSugar_R</th>\n",
              "      <th>PulseRate</th>\n",
              "    </tr>\n",
              "  </thead>\n",
              "  <tbody>\n",
              "    <tr>\n",
              "      <th>count</th>\n",
              "      <td>64023.000000</td>\n",
              "      <td>64023.000000</td>\n",
              "      <td>64023.000000</td>\n",
              "      <td>6.402300e+04</td>\n",
              "      <td>5.335600e+04</td>\n",
              "      <td>64021.000000</td>\n",
              "      <td>6.389900e+04</td>\n",
              "      <td>63899.000000</td>\n",
              "      <td>63899.000000</td>\n",
              "      <td>57872.000000</td>\n",
              "      <td>62887.000000</td>\n",
              "      <td>6558.000000</td>\n",
              "      <td>0.0</td>\n",
              "    </tr>\n",
              "    <tr>\n",
              "      <th>mean</th>\n",
              "      <td>457.211690</td>\n",
              "      <td>507.417928</td>\n",
              "      <td>510527.469519</td>\n",
              "      <td>1.897175e+11</td>\n",
              "      <td>8.845446e+09</td>\n",
              "      <td>37.224786</td>\n",
              "      <td>2.870230e+03</td>\n",
              "      <td>60.342666</td>\n",
              "      <td>153.635766</td>\n",
              "      <td>115.146452</td>\n",
              "      <td>130.780447</td>\n",
              "      <td>141.784811</td>\n",
              "      <td>NaN</td>\n",
              "    </tr>\n",
              "    <tr>\n",
              "      <th>std</th>\n",
              "      <td>261.691495</td>\n",
              "      <td>107.817574</td>\n",
              "      <td>39964.263560</td>\n",
              "      <td>1.166427e+11</td>\n",
              "      <td>9.842298e+08</td>\n",
              "      <td>11.931277</td>\n",
              "      <td>1.505336e+05</td>\n",
              "      <td>92.381559</td>\n",
              "      <td>37.359442</td>\n",
              "      <td>1056.567110</td>\n",
              "      <td>34.672930</td>\n",
              "      <td>1376.534018</td>\n",
              "      <td>NaN</td>\n",
              "    </tr>\n",
              "    <tr>\n",
              "      <th>min</th>\n",
              "      <td>67.000000</td>\n",
              "      <td>466.000000</td>\n",
              "      <td>240163.000000</td>\n",
              "      <td>0.000000e+00</td>\n",
              "      <td>0.000000e+00</td>\n",
              "      <td>0.000000</td>\n",
              "      <td>0.000000e+00</td>\n",
              "      <td>0.000000</td>\n",
              "      <td>0.160000</td>\n",
              "      <td>0.000000</td>\n",
              "      <td>0.000000</td>\n",
              "      <td>0.000000</td>\n",
              "      <td>NaN</td>\n",
              "    </tr>\n",
              "    <tr>\n",
              "      <th>25%</th>\n",
              "      <td>227.000000</td>\n",
              "      <td>478.000000</td>\n",
              "      <td>490359.500000</td>\n",
              "      <td>1.110500e+11</td>\n",
              "      <td>8.108219e+09</td>\n",
              "      <td>30.000000</td>\n",
              "      <td>1.948700e+01</td>\n",
              "      <td>50.000000</td>\n",
              "      <td>152.000000</td>\n",
              "      <td>90.000000</td>\n",
              "      <td>112.000000</td>\n",
              "      <td>102.000000</td>\n",
              "      <td>NaN</td>\n",
              "    </tr>\n",
              "    <tr>\n",
              "      <th>50%</th>\n",
              "      <td>410.000000</td>\n",
              "      <td>484.000000</td>\n",
              "      <td>518567.000000</td>\n",
              "      <td>1.717800e+11</td>\n",
              "      <td>9.096865e+09</td>\n",
              "      <td>36.000000</td>\n",
              "      <td>2.220630e+01</td>\n",
              "      <td>56.000000</td>\n",
              "      <td>161.000000</td>\n",
              "      <td>99.000000</td>\n",
              "      <td>128.000000</td>\n",
              "      <td>117.000000</td>\n",
              "      <td>NaN</td>\n",
              "    </tr>\n",
              "    <tr>\n",
              "      <th>75%</th>\n",
              "      <td>715.000000</td>\n",
              "      <td>490.000000</td>\n",
              "      <td>536030.500000</td>\n",
              "      <td>2.930401e+11</td>\n",
              "      <td>9.637762e+09</td>\n",
              "      <td>45.000000</td>\n",
              "      <td>2.540280e+01</td>\n",
              "      <td>65.000000</td>\n",
              "      <td>168.000000</td>\n",
              "      <td>111.000000</td>\n",
              "      <td>142.000000</td>\n",
              "      <td>138.000000</td>\n",
              "      <td>NaN</td>\n",
              "    </tr>\n",
              "    <tr>\n",
              "      <th>max</th>\n",
              "      <td>915.000000</td>\n",
              "      <td>999.000000</td>\n",
              "      <td>553332.000000</td>\n",
              "      <td>1.110500e+12</td>\n",
              "      <td>1.000000e+10</td>\n",
              "      <td>930.000000</td>\n",
              "      <td>2.884153e+07</td>\n",
              "      <td>8565.000000</td>\n",
              "      <td>768.000000</td>\n",
              "      <td>130162.000000</td>\n",
              "      <td>968.000000</td>\n",
              "      <td>110120.000000</td>\n",
              "      <td>NaN</td>\n",
              "    </tr>\n",
              "  </tbody>\n",
              "</table>\n",
              "</div>"
            ],
            "text/plain": [
              "             CampId   DISTLGDCODE         RegdId        RegdNo        MOBILE  \\\n",
              "count  64023.000000  64023.000000   64023.000000  6.402300e+04  5.335600e+04   \n",
              "mean     457.211690    507.417928  510527.469519  1.897175e+11  8.845446e+09   \n",
              "std      261.691495    107.817574   39964.263560  1.166427e+11  9.842298e+08   \n",
              "min       67.000000    466.000000  240163.000000  0.000000e+00  0.000000e+00   \n",
              "25%      227.000000    478.000000  490359.500000  1.110500e+11  8.108219e+09   \n",
              "50%      410.000000    484.000000  518567.000000  1.717800e+11  9.096865e+09   \n",
              "75%      715.000000    490.000000  536030.500000  2.930401e+11  9.637762e+09   \n",
              "max      915.000000    999.000000  553332.000000  1.110500e+12  1.000000e+10   \n",
              "\n",
              "                AGE           BMI    Weight_KGs    Height_CMs   BloodSugar_F  \\\n",
              "count  64021.000000  6.389900e+04  63899.000000  63899.000000   57872.000000   \n",
              "mean      37.224786  2.870230e+03     60.342666    153.635766     115.146452   \n",
              "std       11.931277  1.505336e+05     92.381559     37.359442    1056.567110   \n",
              "min        0.000000  0.000000e+00      0.000000      0.160000       0.000000   \n",
              "25%       30.000000  1.948700e+01     50.000000    152.000000      90.000000   \n",
              "50%       36.000000  2.220630e+01     56.000000    161.000000      99.000000   \n",
              "75%       45.000000  2.540280e+01     65.000000    168.000000     111.000000   \n",
              "max      930.000000  2.884153e+07   8565.000000    768.000000  130162.000000   \n",
              "\n",
              "       BloodSugar_PP   BloodSugar_R  PulseRate  \n",
              "count   62887.000000    6558.000000        0.0  \n",
              "mean      130.780447     141.784811        NaN  \n",
              "std        34.672930    1376.534018        NaN  \n",
              "min         0.000000       0.000000        NaN  \n",
              "25%       112.000000     102.000000        NaN  \n",
              "50%       128.000000     117.000000        NaN  \n",
              "75%       142.000000     138.000000        NaN  \n",
              "max       968.000000  110120.000000        NaN  "
            ]
          },
          "metadata": {
            "tags": []
          },
          "execution_count": 95
        }
      ]
    },
    {
      "cell_type": "code",
      "metadata": {
        "id": "8tH4LWLXLmXJ",
        "colab_type": "code",
        "colab": {
          "base_uri": "https://localhost:8080/",
          "height": 238
        },
        "outputId": "52b46be6-8aac-4ac3-e10b-a524968afdf8"
      },
      "source": [
        "Screening_Final_Details.groupby('CampDate')['RegdId'].count()"
      ],
      "execution_count": 166,
      "outputs": [
        {
          "output_type": "execute_result",
          "data": {
            "text/plain": [
              "CampDate\n",
              "2019-06-22     123\n",
              "2019-06-29     118\n",
              "2019-07-04     133\n",
              "2019-07-05      84\n",
              "2019-07-06     217\n",
              "              ... \n",
              "2020-01-11    1209\n",
              "2020-01-12     462\n",
              "2020-01-13    1273\n",
              "2020-01-14    1136\n",
              "2020-01-15       1\n",
              "Name: RegdId, Length: 145, dtype: int64"
            ]
          },
          "metadata": {
            "tags": []
          },
          "execution_count": 166
        }
      ]
    },
    {
      "cell_type": "markdown",
      "metadata": {
        "id": "lLpdrx7BOHTr",
        "colab_type": "text"
      },
      "source": [
        "Date Wise Count of Registration "
      ]
    },
    {
      "cell_type": "code",
      "metadata": {
        "id": "_y-5fSSf2SM8",
        "colab_type": "code",
        "colab": {
          "base_uri": "https://localhost:8080/",
          "height": 85
        },
        "outputId": "94a97051-6886-4b18-d808-12a4ef155c70"
      },
      "source": [
        "Screening_Final_Details.groupby('GENDER')['RegdId'].count()"
      ],
      "execution_count": 113,
      "outputs": [
        {
          "output_type": "execute_result",
          "data": {
            "text/plain": [
              "GENDER\n",
              "F    21059\n",
              "M    42962\n",
              "Name: RegdId, dtype: int64"
            ]
          },
          "metadata": {
            "tags": []
          },
          "execution_count": 113
        }
      ]
    },
    {
      "cell_type": "markdown",
      "metadata": {
        "id": "oe3rOyT03fL8",
        "colab_type": "text"
      },
      "source": [
        "1) Total 21059 Females and 42962 Male are Participets in this camping.\n"
      ]
    },
    {
      "cell_type": "code",
      "metadata": {
        "id": "ab4xzb113VbM",
        "colab_type": "code",
        "colab": {
          "base_uri": "https://localhost:8080/",
          "height": 102
        },
        "outputId": "3187cb52-edfd-48ca-d3e2-262d33c756f5"
      },
      "source": [
        "Screening_Final_Details.groupby('health_STATUS')['RegdId'].count()"
      ],
      "execution_count": 114,
      "outputs": [
        {
          "output_type": "execute_result",
          "data": {
            "text/plain": [
              "health_STATUS\n",
              "CRITICAL     9062\n",
              "IPD         12602\n",
              "Normal      42359\n",
              "Name: RegdId, dtype: int64"
            ]
          },
          "metadata": {
            "tags": []
          },
          "execution_count": 114
        }
      ]
    },
    {
      "cell_type": "markdown",
      "metadata": {
        "id": "WdnuIlbe6Wbw",
        "colab_type": "text"
      },
      "source": [
        "1) From Male and Female 42359 having Normal Health coundition, 12602 having IPD and 9062 having Critical coundition."
      ]
    },
    {
      "cell_type": "code",
      "metadata": {
        "id": "GfkXINAY8A8N",
        "colab_type": "code",
        "colab": {
          "base_uri": "https://localhost:8080/",
          "height": 235
        },
        "outputId": "84865e5c-54f9-411f-988d-ad16587755cf"
      },
      "source": [
        "pd.crosstab(Screening_Final_Details['DISTNAME'],Screening_Final_Details['GENDER']).head(5)"
      ],
      "execution_count": 144,
      "outputs": [
        {
          "output_type": "execute_result",
          "data": {
            "text/html": [
              "<div>\n",
              "<style scoped>\n",
              "    .dataframe tbody tr th:only-of-type {\n",
              "        vertical-align: middle;\n",
              "    }\n",
              "\n",
              "    .dataframe tbody tr th {\n",
              "        vertical-align: top;\n",
              "    }\n",
              "\n",
              "    .dataframe thead th {\n",
              "        text-align: right;\n",
              "    }\n",
              "</style>\n",
              "<table border=\"1\" class=\"dataframe\">\n",
              "  <thead>\n",
              "    <tr style=\"text-align: right;\">\n",
              "      <th>GENDER</th>\n",
              "      <th>F</th>\n",
              "      <th>M</th>\n",
              "    </tr>\n",
              "    <tr>\n",
              "      <th>DISTNAME</th>\n",
              "      <th></th>\n",
              "      <th></th>\n",
              "    </tr>\n",
              "  </thead>\n",
              "  <tbody>\n",
              "    <tr>\n",
              "      <th>AHMEDNAGAR</th>\n",
              "      <td>41</td>\n",
              "      <td>234</td>\n",
              "    </tr>\n",
              "    <tr>\n",
              "      <th>AKOLA</th>\n",
              "      <td>47</td>\n",
              "      <td>679</td>\n",
              "    </tr>\n",
              "    <tr>\n",
              "      <th>AMRAVATI</th>\n",
              "      <td>771</td>\n",
              "      <td>1550</td>\n",
              "    </tr>\n",
              "    <tr>\n",
              "      <th>AURANGABAD</th>\n",
              "      <td>25</td>\n",
              "      <td>136</td>\n",
              "    </tr>\n",
              "    <tr>\n",
              "      <th>BEED</th>\n",
              "      <td>39</td>\n",
              "      <td>271</td>\n",
              "    </tr>\n",
              "  </tbody>\n",
              "</table>\n",
              "</div>"
            ],
            "text/plain": [
              "GENDER        F     M\n",
              "DISTNAME             \n",
              "AHMEDNAGAR   41   234\n",
              "AKOLA        47   679\n",
              "AMRAVATI    771  1550\n",
              "AURANGABAD   25   136\n",
              "BEED         39   271"
            ]
          },
          "metadata": {
            "tags": []
          },
          "execution_count": 144
        }
      ]
    },
    {
      "cell_type": "markdown",
      "metadata": {
        "id": "jUAtkAhbGnlt",
        "colab_type": "text"
      },
      "source": [
        "DISTRICT wise MALE and FEMALE Count"
      ]
    },
    {
      "cell_type": "code",
      "metadata": {
        "id": "ebTwNtmXBxAq",
        "colab_type": "code",
        "colab": {
          "base_uri": "https://localhost:8080/",
          "height": 173
        },
        "outputId": "46ecc641-8fba-447b-86ed-6502b15bc4b2"
      },
      "source": [
        "pd.crosstab(Screening_Final_Details['health_STATUS'],Screening_Final_Details['GENDER'])"
      ],
      "execution_count": 145,
      "outputs": [
        {
          "output_type": "execute_result",
          "data": {
            "text/html": [
              "<div>\n",
              "<style scoped>\n",
              "    .dataframe tbody tr th:only-of-type {\n",
              "        vertical-align: middle;\n",
              "    }\n",
              "\n",
              "    .dataframe tbody tr th {\n",
              "        vertical-align: top;\n",
              "    }\n",
              "\n",
              "    .dataframe thead th {\n",
              "        text-align: right;\n",
              "    }\n",
              "</style>\n",
              "<table border=\"1\" class=\"dataframe\">\n",
              "  <thead>\n",
              "    <tr style=\"text-align: right;\">\n",
              "      <th>GENDER</th>\n",
              "      <th>F</th>\n",
              "      <th>M</th>\n",
              "    </tr>\n",
              "    <tr>\n",
              "      <th>health_STATUS</th>\n",
              "      <th></th>\n",
              "      <th></th>\n",
              "    </tr>\n",
              "  </thead>\n",
              "  <tbody>\n",
              "    <tr>\n",
              "      <th>CRITICAL</th>\n",
              "      <td>3855</td>\n",
              "      <td>5205</td>\n",
              "    </tr>\n",
              "    <tr>\n",
              "      <th>IPD</th>\n",
              "      <td>4393</td>\n",
              "      <td>8209</td>\n",
              "    </tr>\n",
              "    <tr>\n",
              "      <th>Normal</th>\n",
              "      <td>12811</td>\n",
              "      <td>29548</td>\n",
              "    </tr>\n",
              "  </tbody>\n",
              "</table>\n",
              "</div>"
            ],
            "text/plain": [
              "GENDER             F      M\n",
              "health_STATUS              \n",
              "CRITICAL        3855   5205\n",
              "IPD             4393   8209\n",
              "Normal         12811  29548"
            ]
          },
          "metadata": {
            "tags": []
          },
          "execution_count": 145
        }
      ]
    },
    {
      "cell_type": "markdown",
      "metadata": {
        "id": "k2XF0HazGyii",
        "colab_type": "text"
      },
      "source": [
        "HELTH STATUS GENDER wise count"
      ]
    },
    {
      "cell_type": "code",
      "metadata": {
        "id": "f7la4dnYJ4i3",
        "colab_type": "code",
        "colab": {
          "base_uri": "https://localhost:8080/",
          "height": 390
        },
        "outputId": "fa4e92b1-f94f-4f0b-912e-d41b2c3455f2"
      },
      "source": [
        "pd.crosstab(Screening_Final_Details['Weight_KGs'],Screening_Final_Details['GENDER']).head(10)"
      ],
      "execution_count": 162,
      "outputs": [
        {
          "output_type": "execute_result",
          "data": {
            "text/html": [
              "<div>\n",
              "<style scoped>\n",
              "    .dataframe tbody tr th:only-of-type {\n",
              "        vertical-align: middle;\n",
              "    }\n",
              "\n",
              "    .dataframe tbody tr th {\n",
              "        vertical-align: top;\n",
              "    }\n",
              "\n",
              "    .dataframe thead th {\n",
              "        text-align: right;\n",
              "    }\n",
              "</style>\n",
              "<table border=\"1\" class=\"dataframe\">\n",
              "  <thead>\n",
              "    <tr style=\"text-align: right;\">\n",
              "      <th>GENDER</th>\n",
              "      <th>F</th>\n",
              "      <th>M</th>\n",
              "    </tr>\n",
              "    <tr>\n",
              "      <th>Weight_KGs</th>\n",
              "      <th></th>\n",
              "      <th></th>\n",
              "    </tr>\n",
              "  </thead>\n",
              "  <tbody>\n",
              "    <tr>\n",
              "      <th>0.0</th>\n",
              "      <td>0</td>\n",
              "      <td>2</td>\n",
              "    </tr>\n",
              "    <tr>\n",
              "      <th>2.0</th>\n",
              "      <td>1</td>\n",
              "      <td>2</td>\n",
              "    </tr>\n",
              "    <tr>\n",
              "      <th>4.0</th>\n",
              "      <td>10</td>\n",
              "      <td>9</td>\n",
              "    </tr>\n",
              "    <tr>\n",
              "      <th>5.0</th>\n",
              "      <td>6</td>\n",
              "      <td>14</td>\n",
              "    </tr>\n",
              "    <tr>\n",
              "      <th>5.5</th>\n",
              "      <td>1</td>\n",
              "      <td>1</td>\n",
              "    </tr>\n",
              "    <tr>\n",
              "      <th>6.0</th>\n",
              "      <td>4</td>\n",
              "      <td>9</td>\n",
              "    </tr>\n",
              "    <tr>\n",
              "      <th>7.0</th>\n",
              "      <td>4</td>\n",
              "      <td>9</td>\n",
              "    </tr>\n",
              "    <tr>\n",
              "      <th>8.0</th>\n",
              "      <td>0</td>\n",
              "      <td>1</td>\n",
              "    </tr>\n",
              "    <tr>\n",
              "      <th>9.0</th>\n",
              "      <td>0</td>\n",
              "      <td>1</td>\n",
              "    </tr>\n",
              "    <tr>\n",
              "      <th>12.0</th>\n",
              "      <td>0</td>\n",
              "      <td>1</td>\n",
              "    </tr>\n",
              "  </tbody>\n",
              "</table>\n",
              "</div>"
            ],
            "text/plain": [
              "GENDER       F   M\n",
              "Weight_KGs        \n",
              "0.0          0   2\n",
              "2.0          1   2\n",
              "4.0         10   9\n",
              "5.0          6  14\n",
              "5.5          1   1\n",
              "6.0          4   9\n",
              "7.0          4   9\n",
              "8.0          0   1\n",
              "9.0          0   1\n",
              "12.0         0   1"
            ]
          },
          "metadata": {
            "tags": []
          },
          "execution_count": 162
        }
      ]
    },
    {
      "cell_type": "markdown",
      "metadata": {
        "id": "DEaGhNFHK7UU",
        "colab_type": "text"
      },
      "source": [
        "How It was possible someone having 0 KGs Weight "
      ]
    },
    {
      "cell_type": "code",
      "metadata": {
        "id": "RyPV-rXBKu39",
        "colab_type": "code",
        "colab": {
          "base_uri": "https://localhost:8080/",
          "height": 235
        },
        "outputId": "d2b1cadd-cb2f-4e22-aee0-9d51e4d5ed9b"
      },
      "source": [
        "pd.crosstab(Screening_Final_Details['Weight_KGs'],Screening_Final_Details['GENDER']).tail()"
      ],
      "execution_count": 161,
      "outputs": [
        {
          "output_type": "execute_result",
          "data": {
            "text/html": [
              "<div>\n",
              "<style scoped>\n",
              "    .dataframe tbody tr th:only-of-type {\n",
              "        vertical-align: middle;\n",
              "    }\n",
              "\n",
              "    .dataframe tbody tr th {\n",
              "        vertical-align: top;\n",
              "    }\n",
              "\n",
              "    .dataframe thead th {\n",
              "        text-align: right;\n",
              "    }\n",
              "</style>\n",
              "<table border=\"1\" class=\"dataframe\">\n",
              "  <thead>\n",
              "    <tr style=\"text-align: right;\">\n",
              "      <th>GENDER</th>\n",
              "      <th>F</th>\n",
              "      <th>M</th>\n",
              "    </tr>\n",
              "    <tr>\n",
              "      <th>Weight_KGs</th>\n",
              "      <th></th>\n",
              "      <th></th>\n",
              "    </tr>\n",
              "  </thead>\n",
              "  <tbody>\n",
              "    <tr>\n",
              "      <th>6522.0</th>\n",
              "      <td>0</td>\n",
              "      <td>1</td>\n",
              "    </tr>\n",
              "    <tr>\n",
              "      <th>7014.0</th>\n",
              "      <td>0</td>\n",
              "      <td>1</td>\n",
              "    </tr>\n",
              "    <tr>\n",
              "      <th>7057.0</th>\n",
              "      <td>0</td>\n",
              "      <td>1</td>\n",
              "    </tr>\n",
              "    <tr>\n",
              "      <th>7525.0</th>\n",
              "      <td>1</td>\n",
              "      <td>0</td>\n",
              "    </tr>\n",
              "    <tr>\n",
              "      <th>8565.0</th>\n",
              "      <td>0</td>\n",
              "      <td>1</td>\n",
              "    </tr>\n",
              "  </tbody>\n",
              "</table>\n",
              "</div>"
            ],
            "text/plain": [
              "GENDER      F  M\n",
              "Weight_KGs      \n",
              "6522.0      0  1\n",
              "7014.0      0  1\n",
              "7057.0      0  1\n",
              "7525.0      1  0\n",
              "8565.0      0  1"
            ]
          },
          "metadata": {
            "tags": []
          },
          "execution_count": 161
        }
      ]
    },
    {
      "cell_type": "markdown",
      "metadata": {
        "id": "0zHT-9vNOiKK",
        "colab_type": "text"
      },
      "source": [
        "Very High Values in Weight"
      ]
    },
    {
      "cell_type": "code",
      "metadata": {
        "id": "Kp5IR-4ESDpW",
        "colab_type": "code",
        "colab": {}
      },
      "source": [
        "df=pd.pivot_table(Screening_Final_Details,index=[\"health_STATUS\"],values=[\"RegdId\"],\n",
        "               columns=[\"DISTNAME\"],aggfunc=[len],fill_value=0,margins=True)"
      ],
      "execution_count": 0,
      "outputs": []
    },
    {
      "cell_type": "code",
      "metadata": {
        "id": "9Axcv4YKxqkf",
        "colab_type": "code",
        "colab": {}
      },
      "source": [
        "df.head()"
      ],
      "execution_count": 0,
      "outputs": []
    },
    {
      "cell_type": "markdown",
      "metadata": {
        "id": "r-YShPhjyTGP",
        "colab_type": "text"
      },
      "source": [
        "1."
      ]
    },
    {
      "cell_type": "code",
      "metadata": {
        "id": "HHjLFsATxJYA",
        "colab_type": "code",
        "colab": {}
      },
      "source": [
        "df=pd.pivot_table(Screening_Final_Details,index=[\"health_STATUS\"],values=[\"RegdId\"],\n",
        "               columns=[\"GENDER\"],aggfunc=[len],fill_value=0,margins=True)"
      ],
      "execution_count": 0,
      "outputs": []
    },
    {
      "cell_type": "code",
      "metadata": {
        "id": "nX9VDvqvpIy4",
        "colab_type": "code",
        "colab": {
          "base_uri": "https://localhost:8080/",
          "height": 266
        },
        "outputId": "afd6db4b-9dce-422b-ad73-a1ec6c10c125"
      },
      "source": [
        "df.head(11)"
      ],
      "execution_count": 85,
      "outputs": [
        {
          "output_type": "execute_result",
          "data": {
            "text/html": [
              "<div>\n",
              "<style scoped>\n",
              "    .dataframe tbody tr th:only-of-type {\n",
              "        vertical-align: middle;\n",
              "    }\n",
              "\n",
              "    .dataframe tbody tr th {\n",
              "        vertical-align: top;\n",
              "    }\n",
              "\n",
              "    .dataframe thead tr th {\n",
              "        text-align: left;\n",
              "    }\n",
              "\n",
              "    .dataframe thead tr:last-of-type th {\n",
              "        text-align: right;\n",
              "    }\n",
              "</style>\n",
              "<table border=\"1\" class=\"dataframe\">\n",
              "  <thead>\n",
              "    <tr>\n",
              "      <th></th>\n",
              "      <th colspan=\"3\" halign=\"left\">len</th>\n",
              "    </tr>\n",
              "    <tr>\n",
              "      <th></th>\n",
              "      <th colspan=\"3\" halign=\"left\">RegdId</th>\n",
              "    </tr>\n",
              "    <tr>\n",
              "      <th>GENDER</th>\n",
              "      <th>F</th>\n",
              "      <th>M</th>\n",
              "      <th>All</th>\n",
              "    </tr>\n",
              "    <tr>\n",
              "      <th>health_STATUS</th>\n",
              "      <th></th>\n",
              "      <th></th>\n",
              "      <th></th>\n",
              "    </tr>\n",
              "  </thead>\n",
              "  <tbody>\n",
              "    <tr>\n",
              "      <th>CRITICAL</th>\n",
              "      <td>3855</td>\n",
              "      <td>5205</td>\n",
              "      <td>9060</td>\n",
              "    </tr>\n",
              "    <tr>\n",
              "      <th>IPD</th>\n",
              "      <td>4393</td>\n",
              "      <td>8209</td>\n",
              "      <td>12602</td>\n",
              "    </tr>\n",
              "    <tr>\n",
              "      <th>Normal</th>\n",
              "      <td>12811</td>\n",
              "      <td>29548</td>\n",
              "      <td>42359</td>\n",
              "    </tr>\n",
              "    <tr>\n",
              "      <th>All</th>\n",
              "      <td>21059</td>\n",
              "      <td>42962</td>\n",
              "      <td>64021</td>\n",
              "    </tr>\n",
              "  </tbody>\n",
              "</table>\n",
              "</div>"
            ],
            "text/plain": [
              "                 len              \n",
              "              RegdId              \n",
              "GENDER             F      M    All\n",
              "health_STATUS                     \n",
              "CRITICAL        3855   5205   9060\n",
              "IPD             4393   8209  12602\n",
              "Normal         12811  29548  42359\n",
              "All            21059  42962  64021"
            ]
          },
          "metadata": {
            "tags": []
          },
          "execution_count": 85
        }
      ]
    },
    {
      "cell_type": "code",
      "metadata": {
        "id": "snSPWqJcx0Ad",
        "colab_type": "code",
        "colab": {
          "base_uri": "https://localhost:8080/",
          "height": 129
        },
        "outputId": "dc08954d-cb14-4863-bf90-06ccbdbf36c6"
      },
      "source": [
        ""
      ],
      "execution_count": 91,
      "outputs": [
        {
          "output_type": "error",
          "ename": "SyntaxError",
          "evalue": "ignored",
          "traceback": [
            "\u001b[0;36m  File \u001b[0;32m\"<ipython-input-91-8cb2ffe7efe5>\"\u001b[0;36m, line \u001b[0;32m1\u001b[0m\n\u001b[0;31m    info.()\u001b[0m\n\u001b[0m         ^\u001b[0m\n\u001b[0;31mSyntaxError\u001b[0m\u001b[0;31m:\u001b[0m invalid syntax\n"
          ]
        }
      ]
    },
    {
      "cell_type": "code",
      "metadata": {
        "id": "YT3oOXLNwW3B",
        "colab_type": "code",
        "colab": {}
      },
      "source": [
        "df.to_excel('result.xlsx')"
      ],
      "execution_count": 0,
      "outputs": []
    },
    {
      "cell_type": "code",
      "metadata": {
        "id": "neD95gc7unqo",
        "colab_type": "code",
        "colab": {
          "base_uri": "https://localhost:8080/",
          "height": 258
        },
        "outputId": "186371a5-2e69-4083-8a90-a57bad260425"
      },
      "source": [
        "!pip install pandas_profiling\n",
        "import seaborn"
      ],
      "execution_count": 81,
      "outputs": [
        {
          "output_type": "stream",
          "text": [
            "Requirement already satisfied: pandas_profiling in /usr/local/lib/python3.6/dist-packages (1.4.1)\n",
            "Requirement already satisfied: pandas>=0.19 in /usr/local/lib/python3.6/dist-packages (from pandas_profiling) (0.25.3)\n",
            "Requirement already satisfied: matplotlib>=1.4 in /usr/local/lib/python3.6/dist-packages (from pandas_profiling) (3.1.2)\n",
            "Requirement already satisfied: six>=1.9 in /usr/local/lib/python3.6/dist-packages (from pandas_profiling) (1.12.0)\n",
            "Requirement already satisfied: jinja2>=2.8 in /usr/local/lib/python3.6/dist-packages (from pandas_profiling) (2.10.3)\n",
            "Requirement already satisfied: pytz>=2017.2 in /usr/local/lib/python3.6/dist-packages (from pandas>=0.19->pandas_profiling) (2018.9)\n",
            "Requirement already satisfied: numpy>=1.13.3 in /usr/local/lib/python3.6/dist-packages (from pandas>=0.19->pandas_profiling) (1.17.5)\n",
            "Requirement already satisfied: python-dateutil>=2.6.1 in /usr/local/lib/python3.6/dist-packages (from pandas>=0.19->pandas_profiling) (2.6.1)\n",
            "Requirement already satisfied: cycler>=0.10 in /usr/local/lib/python3.6/dist-packages (from matplotlib>=1.4->pandas_profiling) (0.10.0)\n",
            "Requirement already satisfied: pyparsing!=2.0.4,!=2.1.2,!=2.1.6,>=2.0.1 in /usr/local/lib/python3.6/dist-packages (from matplotlib>=1.4->pandas_profiling) (2.4.6)\n",
            "Requirement already satisfied: kiwisolver>=1.0.1 in /usr/local/lib/python3.6/dist-packages (from matplotlib>=1.4->pandas_profiling) (1.1.0)\n",
            "Requirement already satisfied: MarkupSafe>=0.23 in /usr/local/lib/python3.6/dist-packages (from jinja2>=2.8->pandas_profiling) (1.1.1)\n",
            "Requirement already satisfied: setuptools in /usr/local/lib/python3.6/dist-packages (from kiwisolver>=1.0.1->matplotlib>=1.4->pandas_profiling) (42.0.2)\n"
          ],
          "name": "stdout"
        }
      ]
    },
    {
      "cell_type": "code",
      "metadata": {
        "id": "UZBGsxT6wjNl",
        "colab_type": "code",
        "colab": {}
      },
      "source": [
        ""
      ],
      "execution_count": 0,
      "outputs": []
    }
  ]
}